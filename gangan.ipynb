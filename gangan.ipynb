{
 "cells": [
  {
   "cell_type": "code",
   "execution_count": 1,
   "metadata": {},
   "outputs": [],
   "source": [
    "%matplotlib inline \n",
    "\n",
    "import matplotlib.pyplot as plt\n",
    "import numpy as np\n",
    "\n",
    "from keras.datasets import mnist\n",
    "from keras.layers import Dense, Flatten, Reshape\n",
    "from keras.models import Sequential\n",
    "from keras.optimizers import Adam"
   ]
  },
  {
   "cell_type": "code",
   "execution_count": 2,
   "metadata": {},
   "outputs": [],
   "source": [
    "img_rows = 28\n",
    "img_cols = 28\n",
    "channels = 1\n",
    "\n",
    "# 入力画像の次元\n",
    "img_shape = (img_rows, img_cols, channels)\n",
    "\n",
    "# 生成器の入力として使われるノイズベクトルの次元\n",
    "z_dim = 100"
   ]
  },
  {
   "cell_type": "code",
   "execution_count": 3,
   "metadata": {},
   "outputs": [],
   "source": [
    "def build_generator(img_shape, z_dim):\n",
    "    \n",
    "    model = Sequential()\n",
    "    \n",
    "    # 全結合層\n",
    "    model.add(Dense(128, input_dim=z_dim))\n",
    "    \n",
    "    # Leaky ReLUによる活性化\n",
    "    model.add(LeakyReLU(alpha=0.01))\n",
    "    \n",
    "    # tanh関数による出力層\n",
    "    model.add(Dense(28 * 28 * 1), activation = 'tanh')\n",
    "    \n",
    "    # 生成器の出力が画像サイズになるようにreshapeする\n",
    "    model.add(Reshape(img_shape))\n",
    "    \n",
    "    return model"
   ]
  },
  {
   "cell_type": "code",
   "execution_count": null,
   "metadata": {},
   "outputs": [],
   "source": []
  }
 ],
 "metadata": {
  "kernelspec": {
   "display_name": "Python 3",
   "language": "python",
   "name": "python3"
  },
  "language_info": {
   "codemirror_mode": {
    "name": "ipython",
    "version": 3
   },
   "file_extension": ".py",
   "mimetype": "text/x-python",
   "name": "python",
   "nbconvert_exporter": "python",
   "pygments_lexer": "ipython3",
   "version": "3.8.5"
  }
 },
 "nbformat": 4,
 "nbformat_minor": 4
}
